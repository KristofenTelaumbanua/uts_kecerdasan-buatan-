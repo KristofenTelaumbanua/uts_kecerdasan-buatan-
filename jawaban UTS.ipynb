{
 "cells": [
  {
   "cell_type": "code",
   "execution_count": 5,
   "metadata": {},
   "outputs": [],
   "source": [
    "\n",
    "company_detail_list = [\n",
    "    {\n",
    "        'name': 'Company 1',\n",
    "        'domain': 'Retail',\n",
    "        'country': 'United States'\n",
    "    },\n",
    "    {\n",
    "        'name': 'Company 2',\n",
    "        'domain': 'Technology',\n",
    "        'country': 'United Kingdom'\n",
    "    },\n",
    "    {\n",
    "        'name': 'Company 3',\n",
    "        'domain': 'Healthcare',\n",
    "        'country': 'United States'\n",
    "    }\n",
    "]"
   ]
  },
  {
   "cell_type": "code",
   "execution_count": 6,
   "metadata": {},
   "outputs": [
    {
     "name": "stdout",
     "output_type": "stream",
     "text": [
      "Company 3\n",
      "Company 2\n",
      "Company 1\n"
     ]
    }
   ],
   "source": [
    "sorted_company_list = sorted(company_detail_list, key=lambda x: x['name'], reverse=True)\n",
    "\n",
    "# Menampilkan hasil\n",
    "for company in sorted_company_list:\n",
    "    print(company['name'])"
   ]
  },
  {
   "cell_type": "code",
   "execution_count": 7,
   "metadata": {},
   "outputs": [
    {
     "name": "stdout",
     "output_type": "stream",
     "text": [
      "Company Name: Company 1, Domain: Retail\n",
      "Company Name: Company 2, Domain: Technology\n",
      "Company Name: Company 3, Domain: Healthcare\n"
     ]
    }
   ],
   "source": [
    "for company in company_detail_list:\n",
    "    print(f\"Company Name: {company['name']}, Domain: {company['domain']}\")"
   ]
  },
  {
   "cell_type": "code",
   "execution_count": 8,
   "metadata": {},
   "outputs": [],
   "source": [
    "def get_employees_with_company_country(employee_list, company_list):\n",
    "    # Membuat peta perusahaan ke negara\n",
    "    company_to_country = {company['name']: company['country'] for company in company_list}\n",
    "    \n",
    "    # Membuat daftar hasil\n",
    "    employee_with_country = []\n",
    "    \n",
    "    # Mengisi daftar dengan karyawan dan negara perusahaan mereka\n",
    "    for employee in employee_list:\n",
    "        country = company_to_country.get(employee['company'])\n",
    "        employee_with_country.append({\n",
    "            'full_name': employee['full_name'],\n",
    "            'company': employee['company'],\n",
    "            'country': country\n",
    "        })\n",
    "    \n",
    "    return employee_with_country "
   ]
  },
  {
   "cell_type": "code",
   "execution_count": 9,
   "metadata": {},
   "outputs": [],
   "source": [
    "def get_company_citizenship_count(employee_list, company_list):\n",
    "    # Membuat peta perusahaan ke karyawan\n",
    "    company_to_employees = {company['name']: [] for company in company_list}\n",
    "    \n",
    "    # Mengisi peta dengan karyawan\n",
    "    for employee in employee_list:\n",
    "        company_to_employees[employee['company']].append(employee['nationality'])\n",
    "    \n",
    "    # Menghitung kewarganegaraan unik per perusahaan\n",
    "    company_citizenship_count = {}\n",
    "    for company, nationalities in company_to_employees.items():\n",
    "        unique_nationalities = set(nationalities)  # Mengambil kewarganegaraan yang unik\n",
    "        company_citizenship_count[company] = {\n",
    "            'count': len(unique_nationalities),  # Hitung jumlah kewarganegaraan unik\n",
    "            'nationalities': unique_nationalities  # Daftar kewarganegaraan unik\n",
    "        }\n",
    "\n",
    "    return company_citizenship_count"
   ]
  },
  {
   "cell_type": "code",
   "execution_count": 10,
   "metadata": {},
   "outputs": [],
   "source": [
    "employee_detail_list = [\n",
    "     {\n",
    "          'name': 'EMP-0001',\n",
    "          'first_name': 'John',\n",
    "          'last_name': 'Doe',\n",
    "          'full_name': 'John Doe',\n",
    "          'company': 'Company 1',\n",
    "          'nationality': 'Australia'\n",
    "      },\n",
    "      {\n",
    "          'name': 'EMP-0002',\n",
    "          'first_name': 'Tom',\n",
    "          'last_name': 'Smith',\n",
    "          'full_name': 'Tom Smith',\n",
    "          'company': 'Company 2',\n",
    "          'nationality': 'United States'\n",
    "      },\n",
    "      {\n",
    "          'name': 'EMP-0003',\n",
    "          'first_name': 'Andrew',\n",
    "          'last_name': 'Sebastian',\n",
    "          'full_name': 'Andrew Sebastian',\n",
    "          'company': 'Company 3',\n",
    "          'nationality': 'United States'\n",
    "      },\n",
    "      {\n",
    "          'name': 'EMP-0005',\n",
    "          'first_name': 'Ying Han',\n",
    "          'last_name': 'Tan',\n",
    "          'full_name': 'Ying Han Tan',\n",
    "          'company': 'Company 1',\n",
    "          'nationality': 'Australia'\n",
    "      },\n",
    "      {\n",
    "          'name': 'EMP-0015',\n",
    "          'first_name': 'Kenneth',\n",
    "          'last_name': 'Ng',\n",
    "          'full_name': 'Kenneth Ng',\n",
    "          'company': 'Company 3',\n",
    "          'nationality': 'United States'\n",
    "      },\n",
    "      {\n",
    "          'name': 'EMP-0018',\n",
    "          'first_name': 'Rubby',\n",
    "          'last_name': 'Lee',\n",
    "          'full_name': 'Rubby Lee',\n",
    "          'company': 'Company 2',\n",
    "          'nationality': 'Hong Kong'\n",
    "      },\n",
    "     {\n",
    "          'name': 'EMP-0017',\n",
    "          'first_name': 'Robert',\n",
    "          'last_name': 'White',\n",
    "          'full_name': 'Robert White',\n",
    "          'company': 'Company 1',\n",
    "          'nationality': 'United Kingdom'\n",
    "      }\n",
    "  ]"
   ]
  },
  {
   "cell_type": "code",
   "execution_count": 11,
   "metadata": {},
   "outputs": [
    {
     "name": "stdout",
     "output_type": "stream",
     "text": [
      "Domain: Retail\n",
      " - John Doe\n",
      " - Ying Han Tan\n",
      " - Robert White\n",
      "Domain: Technology\n",
      " - Tom Smith\n",
      " - Rubby Lee\n",
      "Domain: Healthcare\n",
      " - Andrew Sebastian\n",
      " - Kenneth Ng\n"
     ]
    }
   ],
   "source": [
    "company_to_domain = {company['name']: company['domain'] for company in company_detail_list}\n",
    "\n",
    "\n",
    "domain_employee_map = {}\n",
    "for employee in employee_detail_list:\n",
    "    domain = company_to_domain.get(employee['company'])\n",
    "    if domain not in domain_employee_map:\n",
    "        domain_employee_map[domain] = []\n",
    "    domain_employee_map[domain].append(employee['full_name'])\n",
    "\n",
    "\n",
    "for domain, employees in domain_employee_map.items():\n",
    "    print(f\"Domain: {domain}\")\n",
    "    for employee in employees:\n",
    "        print(f\" - {employee}\")"
   ]
  },
  {
   "cell_type": "code",
   "execution_count": 12,
   "metadata": {},
   "outputs": [
    {
     "name": "stdout",
     "output_type": "stream",
     "text": [
      "Full Name: John Doe\n",
      "Company: Company 1\n",
      "Country: United States\n",
      "\n",
      "Full Name: Tom Smith\n",
      "Company: Company 2\n",
      "Country: United Kingdom\n",
      "\n",
      "Full Name: Andrew Sebastian\n",
      "Company: Company 3\n",
      "Country: United States\n",
      "\n",
      "Full Name: Ying Han Tan\n",
      "Company: Company 1\n",
      "Country: United States\n",
      "\n",
      "Full Name: Kenneth Ng\n",
      "Company: Company 3\n",
      "Country: United States\n",
      "\n",
      "Full Name: Rubby Lee\n",
      "Company: Company 2\n",
      "Country: United Kingdom\n",
      "\n",
      "Full Name: Robert White\n",
      "Company: Company 1\n",
      "Country: United States\n",
      "\n"
     ]
    }
   ],
   "source": [
    "# Memanggil fungsi dan mencetak hasilnya\n",
    "employees_with_country = get_employees_with_company_country(employee_detail_list, company_detail_list)\n",
    "\n",
    "# Menampilkan hasil secara vertikal\n",
    "for item in employees_with_country:\n",
    "    print(f\"Full Name: {item['full_name']}\")\n",
    "    print(f\"Company: {item['company']}\")\n",
    "    print(f\"Country: {item['country']}\")\n",
    "    print()  # Menambahkan baris kosong untuk pemisah antar karyawan\n"
   ]
  },
  {
   "cell_type": "code",
   "execution_count": 13,
   "metadata": {},
   "outputs": [
    {
     "name": "stdout",
     "output_type": "stream",
     "text": [
      "Company: Company 1\n",
      "Unique Citizenship Count: 2\n",
      "Nationalities: Australia, United Kingdom\n",
      "\n",
      "Company: Company 2\n",
      "Unique Citizenship Count: 2\n",
      "Nationalities: Hong Kong, United States\n",
      "\n",
      "Company: Company 3\n",
      "Unique Citizenship Count: 1\n",
      "Nationalities: United States\n",
      "\n"
     ]
    }
   ],
   "source": [
    "company_citizenship_count = get_company_citizenship_count(employee_detail_list, company_detail_list)\n",
    "\n",
    "# Menampilkan hasil secara vertikal\n",
    "for company, data in company_citizenship_count.items():\n",
    "    print(f\"Company: {company}\")\n",
    "    print(f\"Unique Citizenship Count: {data['count']}\")\n",
    "    print(f\"Nationalities: {', '.join(data['nationalities'])}\")  # Menampilkan kewarganegaraan unik\n",
    "    print()  # Menambahkan baris kosong untuk pemisah antar perusahaan"
   ]
  }
 ],
 "metadata": {
  "kernelspec": {
   "display_name": "Python 3",
   "language": "python",
   "name": "python3"
  },
  "language_info": {
   "codemirror_mode": {
    "name": "ipython",
    "version": 3
   },
   "file_extension": ".py",
   "mimetype": "text/x-python",
   "name": "python",
   "nbconvert_exporter": "python",
   "pygments_lexer": "ipython3",
   "version": "3.12.6"
  }
 },
 "nbformat": 4,
 "nbformat_minor": 2
}
